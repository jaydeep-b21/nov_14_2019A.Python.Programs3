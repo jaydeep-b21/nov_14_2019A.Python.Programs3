{
 "cells": [
  {
   "cell_type": "markdown",
   "metadata": {},
   "source": [
    "# Python-Programs\n"
   ]
  },
  {
   "cell_type": "markdown",
   "metadata": {},
   "source": [
    "# A => Sorting Algorithms - 3\n"
   ]
  },
  {
   "cell_type": "markdown",
   "metadata": {},
   "source": [
    "# (1) example of bucket sort"
   ]
  },
  {
   "cell_type": "markdown",
   "metadata": {},
   "source": [
    "Bucket sort, or bin sort, is a sorting algorithm that works by distributing the elements of an array into a number of buckets. Each bucket is then sorted individually, either using  a different sorting algorithm, or by recursively applying the bucket sorting algorithm. It is a distribution sort, and is a cousin of radix sort in the most to least significant digit flavour. Bucket sort is a generalization of pigeonhole sort. Bucket sort can be implemented with comparisons and therefore can also be considered a comparison sort algorithm. The computational complexity estimates involve the number of buckets."
   ]
  },
  {
   "cell_type": "code",
   "execution_count": 8,
   "metadata": {},
   "outputs": [
    {
     "name": "stdout",
     "output_type": "stream",
     "text": [
      "Sorted Array in descending order is\n",
      "[0.32, 0.33, 0.37, 0.42, 0.47, 0.51, 0.52]\n"
     ]
    }
   ],
   "source": [
    "def bucketSort(array): \n",
    "    bucket = [] \n",
    "    for i in range(len(array)): \n",
    "        bucket.append([])\n",
    "        \n",
    "    for j in array: \n",
    "        index_b = int(10 * j) \n",
    "        bucket[index_b].append(j) \n",
    "    \n",
    "    for i in range(len(array)): \n",
    "        bucket[i] = sorted(bucket[i])\n",
    "        \n",
    "    k = 0\n",
    "    for i in range(len(array)): \n",
    "        for j in range(len(bucket[i])): \n",
    "            array[k] = bucket[i][j] \n",
    "            k += 1\n",
    "    return array \n",
    "array = [.42, .32, .33, .52, .37, .47, .51] \n",
    "print(\"Sorted Array in descending order is\") \n",
    "print(bucketSort(array))"
   ]
  },
  {
   "cell_type": "markdown",
   "metadata": {},
   "source": [
    "# (2) example of Shell sort"
   ]
  },
  {
   "cell_type": "markdown",
   "metadata": {},
   "source": [
    "\"Shell sort or Shell's method, is an in-place comparison sort. It can be seen as either a generalization of sorting by exchange (bubble sort) or sorting by insertion (insertion sort). The method starts by sorting pairs of elements far apart from each other, then progressively reducing the gap between elements to be compared. Starting with far apart elements can move some out-of-place elements into position faster than a simple nearest neighbor exchange"
   ]
  },
  {
   "cell_type": "code",
   "execution_count": 9,
   "metadata": {},
   "outputs": [
    {
     "name": "stdout",
     "output_type": "stream",
     "text": [
      "[2, 3, 4, 5, 12, 12, 23, 56, 81, 95]\n"
     ]
    }
   ],
   "source": [
    "def shellSort(myList):\n",
    "    gap = len(myList) // 2\n",
    "    while gap > 0:\n",
    "        for i in range(gap, len(myList)):\n",
    "            currentItem = myList[i]\n",
    "            j = i\n",
    "            while j >= gap and myList[j - gap] > currentItem:\n",
    "                myList[j] = myList[j - gap]\n",
    "                j -= gap\n",
    "            myList[j] = currentItem\n",
    "        gap //= 2\n",
    "\n",
    "    return myList\n",
    "\n",
    "if __name__ == '__main__':\n",
    "    myList = [12, 23, 4, 5, 3, 2, 12, 81, 56, 95]\n",
    "    print(shellSort(myList))"
   ]
  },
  {
   "cell_type": "markdown",
   "metadata": {},
   "source": [
    "# (3) example of Heap sort"
   ]
  },
  {
   "cell_type": "markdown",
   "metadata": {},
   "source": [
    "Heap sort happens in two phases. In the first phase, the array is transformed into a heap. A heap is a binary tree where\n",
    "\n",
    "1) each node is greater than each of its children\n",
    "\n",
    "2) the tree is perfectly balanced\n",
    "\n",
    "3) all leaves are in the leftmost position available.\n",
    "\n",
    "In phase two the heap is continuously reduced to a sorted array:\n",
    "\n",
    "    1) while the heap is not empty\n",
    "\n",
    "    - remove the top of the head into an array\n",
    "\n",
    "    - fix the heap."
   ]
  },
  {
   "cell_type": "code",
   "execution_count": 10,
   "metadata": {},
   "outputs": [
    {
     "name": "stdout",
     "output_type": "stream",
     "text": [
      "Sorted Array: [2, 2, 3, 4, 5, 12]\n"
     ]
    }
   ],
   "source": [
    "def HeapSort(alist):\n",
    "    heapify(alist)              # create the heap\n",
    "    end = len(alist) - 1\n",
    "    while end > 0:\n",
    "        alist[end], alist[0] = alist[0], alist[end]\n",
    "        shiftDown(alist, 0, end - 1)\n",
    "        end -= 1\n",
    "\n",
    "def heapify(alist):\n",
    "    ''' This function helps to maintain the heap property '''\n",
    "    # start = (len(alist) - 2) // 2         (faster execution)\n",
    "    start = len(alist) // 2\n",
    "    while start >= 0:\n",
    "        shiftDown(alist, start, len(alist) - 1)\n",
    "        start -= 1\n",
    "\n",
    "def shiftDown(alist, start, end):\n",
    "    root = start\n",
    "    while root * 2 + 1 <= end:\n",
    "        child = root * 2 + 1\n",
    "        # right child exists and is greater than left child\n",
    "        if child + 1 <= end and alist[child] < alist[child + 1]:\n",
    "            child += 1\n",
    "        # if child is greater than root(parent), then swap their positions\n",
    "        if child <= end and alist[root] < alist[child]:\n",
    "            alist[root], alist[child] = alist[child], alist[root]\n",
    "            root = child\n",
    "        else:\n",
    "            return\n",
    "\n",
    "if __name__ == '__main__':\n",
    "    alist = [12, 2, 4, 5, 2, 3]\n",
    "    HeapSort(alist)\n",
    "    print('Sorted Array:',alist)"
   ]
  },
  {
   "cell_type": "code",
   "execution_count": null,
   "metadata": {},
   "outputs": [],
   "source": []
  }
 ],
 "metadata": {
  "kernelspec": {
   "display_name": "Python 3",
   "language": "python",
   "name": "python3"
  },
  "language_info": {
   "codemirror_mode": {
    "name": "ipython",
    "version": 3
   },
   "file_extension": ".py",
   "mimetype": "text/x-python",
   "name": "python",
   "nbconvert_exporter": "python",
   "pygments_lexer": "ipython3",
   "version": "3.7.3"
  }
 },
 "nbformat": 4,
 "nbformat_minor": 2
}
